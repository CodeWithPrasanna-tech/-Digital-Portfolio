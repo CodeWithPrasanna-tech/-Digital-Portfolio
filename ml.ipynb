{
  "nbformat": 4,
  "nbformat_minor": 0,
  "metadata": {
    "colab": {
      "provenance": [],
      "authorship_tag": "ABX9TyPojRKQ9m3AFrVKxgQQJZry",
      "include_colab_link": true
    },
    "kernelspec": {
      "name": "python3",
      "display_name": "Python 3"
    },
    "language_info": {
      "name": "python"
    }
  },
  "cells": [
    {
      "cell_type": "markdown",
      "metadata": {
        "id": "view-in-github",
        "colab_type": "text"
      },
      "source": [
        "<a href=\"https://colab.research.google.com/github/CodeWithPrasanna-tech/-Digital-Portfolio/blob/main/ml.ipynb\" target=\"_parent\"><img src=\"https://colab.research.google.com/assets/colab-badge.svg\" alt=\"Open In Colab\"/></a>"
      ]
    },
    {
      "cell_type": "code",
      "execution_count": null,
      "metadata": {
        "id": "E28pZDWZDgmC"
      },
      "outputs": [],
      "source": [
        "import os\n",
        "import numpy as np\n",
        "import matplotlib.pyplot as plt\n",
        "from PIL import Image\n",
        "import cv2\n",
        "\n",
        "def load_images_from_folder(folder_path, img_size=(100, 100)):\n",
        "    images = []\n",
        "    filenames = []\n",
        "    for filename in os.listdir(folder_path):\n",
        "        img_path = os.path.join(folder_path, filename)\n",
        "        if os.path.isfile(img_path):\n",
        "            try:\n",
        "                img = Image.open(img_path)\n",
        "                img = img.resize(img_size)\n",
        "                images.append(np.array(img))\n",
        "                filenames.append(filename)\n",
        "            except:\n",
        "                continue\n",
        "    return images, filenames\n",
        "\n",
        "def create_collage(images, grid_size=(3, 3)):\n",
        "    total_images = grid_size[0] * grid_size[1]\n",
        "    if len(images) < total_images:\n",
        "        raise ValueError(\"Not enough images to fit the grid\")\n",
        "\n",
        "    collage = np.zeros((grid_size[0] * images[0].shape[0], grid_size[1] * images[0].shape[1], 3), dtype=np.uint8)\n",
        "\n",
        "    idx = 0\n",
        "    for i in range(grid_size[0]):\n",
        "        for j in range(grid_size[1]):\n",
        "            collage[i * images[0].shape[0]: (i + 1) * images[0].shape[0],\n",
        "                    j * images[0].shape[1]: (j + 1) * images[0].shape[1]] = images[idx]\n",
        "            idx += 1\n",
        "    return collage\n",
        "\n",
        "def display_collage(collage):\n",
        "    plt.imshow(collage)\n",
        "    plt.axis('off')\n",
        "    plt.show()\n",
        "\n",
        "folder_path = \"/path/to/your/images\"\n",
        "grid_size = (3, 3)\n",
        "\n",
        "images, filenames = load_images_from_folder(folder_path)\n",
        "\n",
        "collage = create_collage(images[:grid_size[0] * grid_size[1]], grid_size=grid_size)\n",
        "\n",
        "display_collage(collage)"
      ]
    }
  ]
}